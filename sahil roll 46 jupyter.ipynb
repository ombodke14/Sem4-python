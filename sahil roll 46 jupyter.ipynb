{
  "metadata": {
    "language_info": {
      "name": ""
    },
    "kernelspec": {
      "name": "python",
      "display_name": "Python (Pyodide)",
      "language": "python"
    }
  },
  "nbformat_minor": 4,
  "nbformat": 4,
  "cells": [
    {
      "cell_type": "code",
      "source": "#creating Arrays\n#Numpy arrays are homogeneous in nature, i.e., they comprise one data type (integer, float, double, etc.) unlike lists.\n\n#creating arrays\nnp.zeros(10, dtype='int')\narray([0, 0, 0, 0, 0, 0, 0, 0, 0, 0])\n\n\n#creating a 3 row x 5 column matrix\nnp.ones((3,5), dtype=float)\narray([[ 1.,  1.,  1.,  1.,  1.],\n      [ 1.,  1.,  1.,  1.,  1.],\n      [ 1.,  1.,  1.,  1.,  1.]])\n\n\n#creating a matrix with a predefined value\nnp.full((3,5),1.23)\narray([[ 1.23,  1.23,  1.23,  1.23,  1.23],\n      [ 1.23,  1.23,  1.23,  1.23,  1.23],\n      [ 1.23,  1.23,  1.23,  1.23,  1.23]])\n\n\n#create an array with a set sequence\nnp.arange(0, 20, 2)\narray([0, 2, 4, 6, 8,10,12,14,16,18])\n\n\n#create an array of even space between the given range of values\nnp.linspace(0, 1, 5)\narray([ 0., 0.25, 0.5 , 0.75, 1.])\n\n\n#create a 3x3 array with mean 0 and standard deviation 1 in a given dimension\nnp.random.normal(0, 1, (3,3))\narray([[ 0.72432142, -0.90024075,  0.27363808],\n      [ 0.88426129,  1.45096856, -1.03547109],\n      [-0.42930994, -1.02284441, -1.59753603]])\n\n\n#create an identity matrix\nnp.eye(3)\narray([[ 1.,  0.,  0.],\n      [ 0.,  1.,  0.],\n      [ 0.,  0.,  1.]])\n\n\n#set a random seed\nnp.random.seed(0)\n\n\nx1 = np.random.randint(10, size=6) #one dimension\nx2 = np.random.randint(10, size=(3,4)) #two dimension\nx3 = np.random.randint(10, size=(3,4,5)) #three dimension\n\n\nprint(\"x3 ndim:\", x3.ndim)\nprint(\"x3 shape:\", x3.shape)\nprint(\"x3 size: \", x3.size)\n('x3 ndim:', 3)\n('x3 shape:', (3, 4, 5))\n('x3 size: ', 60)\n",
      "metadata": {
        "trusted": true
      },
      "execution_count": null,
      "outputs": []
    },
    {
      "cell_type": "markdown",
      "source": "creating Arrays",
      "metadata": {}
    },
    {
      "cell_type": "code",
      "source": "x1 = np.array([4, 3, 4, 4, 8, 4])\nx1\narray([4, 3, 4, 4, 8, 4])\n\n#assess value to index zero\nx1[0]\n4\n\n#assess fifth value\nx1[4]\n8\n\n#get the last value\nx1[-1]\n4\n\n#get the second last value\nx1[-2]\n8\n\n#in a multidimensional array, we need to specify row and column index\nx2\narray([[3, 7, 5, 5],\n      [0, 1, 5, 9],\n      [3, 0, 5, 0]])\n\n\n#1st row and 2nd column value\nx2[2,3]\n0\n\n#3rd row and last value from the 3rd column\nx2[2,-1]\n0\n\n\n#replace value at 0,0 index\nx2[0,0] = 12\nx2\narray([[12,  7,  5,  5],\n      [ 0,  1,  5,  9],\n      [ 3,  0,  5,  0]])",
      "metadata": {
        "trusted": true
      },
      "execution_count": null,
      "outputs": []
    },
    {
      "cell_type": "markdown",
      "source": "array indexing",
      "metadata": {}
    },
    {
      "cell_type": "code",
      "source": "x = np.arange(10)\nx\narray([0, 1, 2, 3, 4, 5, 6, 7, 8, 9])\n\n\n#from start to 4th position\nx[:5]\narray([0, 1, 2, 3, 4])\n\n\n#from 4th position to end\nx[4:]\narray([4, 5, 6, 7, 8, 9])\n\n\n#from 4th to 6th position\nx[4:7]\narray([4, 5, 6])\n\n\n#return elements at even place\nx[ : : 2]\narray([0, 2, 4, 6, 8])\n\n\n#return elements from first position step by two\nx[1::2]\narray([1, 3, 5, 7, 9])\n\n\n#reverse the array\nx[::-1]\narray([9, 8, 7, 6, 5, 4, 3, 2, 1, 0])",
      "metadata": {
        "trusted": true
      },
      "execution_count": null,
      "outputs": []
    },
    {
      "cell_type": "markdown",
      "source": "array slicing",
      "metadata": {}
    },
    {
      "cell_type": "code",
      "source": "#You can concatenate two or more arrays at once.\nx = np.array([1, 2, 3])\ny = np.array([3, 2, 1])\nz = [21,21,21]\nnp.concatenate([x, y,z])\narray([ 1,  2,  3,  3,  2,  1, 21, 21, 21])\n\n\n#You can also use this function to create 2-dimensional arrays.\ngrid = np.array([[1,2,3],[4,5,6]])\nnp.concatenate([grid,grid])\narray([[1, 2, 3],\n      [4, 5, 6],\n      [1, 2, 3],\n      [4, 5, 6]])\n\n\n#Using its axis parameter, you can define row-wise or column-wise matrix\nnp.concatenate([grid,grid],axis=1)\narray([[1, 2, 3, 1, 2, 3],\n      [4, 5, 6, 4, 5, 6]])\nUntil now, we used the concatenation function of arrays of equal dimension. But, what if you are required to combine a 2D array with 1D array? In such situations, np.concatenate might not be the best option to use. Instead, you can use np.vstack or np.hstack to do the task. Let's see how!\nx = np.array([3,4,5])\ngrid = np.array([[1,2,3],[17,18,19]])\nnp.vstack([x,grid])\narray([[ 3,  4,  5],\n      [ 1,  2,  3],\n      [17, 18, 19]])\n\n\n#Similarly, you can add an array using np.hstack\nz = np.array([[9],[9]])\nnp.hstack([grid,z])\narray([[ 1,  2,  3,  9],\n      [17, 18, 19,  9]])",
      "metadata": {
        "trusted": true
      },
      "execution_count": null,
      "outputs": []
    },
    {
      "cell_type": "markdown",
      "source": "array concatenation",
      "metadata": {}
    },
    {
      "cell_type": "code",
      "source": "#load library - pd is just an alias. I used pd because it's short and literally abbreviates pandas.\n#You can use any name as an alias. \nimport pandas as pd\n#create a data frame - dictionary is used here where keys get converted to column names and values to row values.\ndata = pd.DataFrame({'Country': ['Russia','Colombia','Chile','Equador','Nigeria'],\n                    'Rank':[121,40,100,130,11]})\ndata",
      "metadata": {
        "trusted": true
      },
      "execution_count": null,
      "outputs": []
    },
    {
      "cell_type": "markdown",
      "source": "Pandas",
      "metadata": {}
    },
    {
      "cell_type": "code",
      "source": "#Among other things, it shows the data set has 5 rows and 2 columns with their respective names.\ndata.info()\n<class 'pandas.core.frame.DataFrame'>\nRangeIndex: 5 entries, 0 to 4\nData columns (total 2 columns):\nCountry    5 non-null object\nRank       5 non-null int64\ndtypes: int64(1), object(1)\nmemory usage: 152.0+ bytes\n\n\n#Let's create another data frame.\ndata = pd.DataFrame({'group':['a', 'a', 'a', 'b','b', 'b', 'c', 'c','c'],'ounces':[4, 3, 12, 6, 7.5, 8, 3, 5, 6]})\ndata",
      "metadata": {
        "trusted": true
      },
      "execution_count": null,
      "outputs": []
    },
    {
      "cell_type": "code",
      "source": "#Let's sort the data frame by ounces - inplace = True will make changes to the data\ndata.sort_values(by=['ounces'],ascending=True,inplace=False)",
      "metadata": {
        "trusted": true
      },
      "execution_count": null,
      "outputs": []
    },
    {
      "cell_type": "code",
      "source": "data.sort_values(by=['group','ounces'],ascending=[True,False],inplace=False)",
      "metadata": {
        "trusted": true
      },
      "execution_count": null,
      "outputs": []
    },
    {
      "cell_type": "code",
      "source": "#create another data with duplicated rows\ndata = pd.DataFrame({'k1':['one']*3 + ['two']*4, 'k2':[3,2,1,3,3,4,4]})\ndata",
      "metadata": {
        "trusted": true
      },
      "execution_count": null,
      "outputs": []
    },
    {
      "cell_type": "code",
      "source": "#sort values \ndata.sort_values(by='k2')",
      "metadata": {
        "trusted": true
      },
      "execution_count": null,
      "outputs": []
    },
    {
      "cell_type": "code",
      "source": "#remove duplicates - ta da! \ndata.drop_duplicates()",
      "metadata": {
        "trusted": true
      },
      "execution_count": null,
      "outputs": []
    },
    {
      "cell_type": "code",
      "source": "data.drop_duplicates(subset='k1')",
      "metadata": {
        "trusted": true
      },
      "execution_count": null,
      "outputs": []
    },
    {
      "cell_type": "code",
      "source": "data = pd.DataFrame({'food': ['bacon', 'pulled pork', 'bacon', 'Pastrami','corned beef', 'Bacon', 'pastrami', 'honey ham','nova lox'],\n                 'ounces': [4, 3, 12, 6, 7.5, 8, 3, 5, 6]})\ndata",
      "metadata": {
        "trusted": true
      },
      "execution_count": null,
      "outputs": []
    },
    {
      "cell_type": "code",
      "source": "meat_to_animal = {\n'bacon': 'pig',\n'pulled pork': 'pig',\n'pastrami': 'cow',\n'corned beef': 'cow',\n'honey ham': 'pig',\n'nova lox': 'salmon'\n}\n\ndef meat_2_animal(series):\n    if series['food'] == 'bacon':\n        return 'pig'\n    elif series['food'] == 'pulled pork':\n        return 'pig'\n    elif series['food'] == 'pastrami':\n        return 'cow'\n    elif series['food'] == 'corned beef':\n        return 'cow'\n    elif series['food'] == 'honey ham':\n        return 'pig'\n    else:\n        return 'salmon'\n\n\n#create a new variable\ndata['animal'] = data['food'].map(str.lower).map(meat_to_animal)\ndata",
      "metadata": {
        "trusted": true
      },
      "execution_count": null,
      "outputs": []
    },
    {
      "cell_type": "code",
      "source": "#another way of doing it is: convert the food values to the lower case and apply the function\nlower = lambda x: x.lower()\ndata['food'] = data['food'].apply(lower)\ndata['animal2'] = data.apply(meat_2_animal, axis='columns')\ndata",
      "metadata": {
        "trusted": true
      },
      "execution_count": null,
      "outputs": []
    },
    {
      "cell_type": "code",
      "source": "data.assign(new_variable = data['ounces']*10)",
      "metadata": {
        "trusted": true
      },
      "execution_count": null,
      "outputs": []
    },
    {
      "cell_type": "code",
      "source": "data.drop('animal2',axis='columns',inplace=True)\ndata",
      "metadata": {
        "trusted": true
      },
      "execution_count": null,
      "outputs": []
    },
    {
      "cell_type": "code",
      "source": "#Series function from pandas are used to create arrays\ndata = pd.Series([1., -999., 2., -999., -1000., 3.])\ndata\n0       1.0\n1    -999.0\n2       2.0\n3    -999.0\n4   -1000.0\n5       3.0\ndtype: float64\n\n\n#replace -999 with NaN values\ndata.replace(-999, np.nan,inplace=True)\ndata\n0       1.0\n1       NaN\n2       2.0\n3       NaN\n4   -1000.0\n5       3.0\ndtype: float64\n\n\n#We can also replace multiple values at once.\ndata = pd.Series([1., -999., 2., -999., -1000., 3.])\ndata.replace([-999,-1000],np.nan,inplace=True)\ndata\n0    1.0\n1    NaN\n2    2.0\n3    NaN\n4    NaN\n5    3.0\ndtype: float64",
      "metadata": {
        "trusted": true
      },
      "execution_count": null,
      "outputs": []
    },
    {
      "cell_type": "code",
      "source": "data = pd.DataFrame(np.arange(12).reshape((3, 4)),index=['Ohio', 'Colorado', 'New York'],columns=['one', 'two', 'three', 'four'])\ndata",
      "metadata": {
        "trusted": true
      },
      "execution_count": null,
      "outputs": []
    },
    {
      "cell_type": "code",
      "source": "#Using rename function\ndata.rename(index = {'Ohio':'SanF'}, columns={'one':'one_p','two':'two_p'},inplace=True)\ndata",
      "metadata": {
        "trusted": true
      },
      "execution_count": null,
      "outputs": []
    },
    {
      "cell_type": "code",
      "source": "#You can also use string functions\ndata.rename(index = str.upper, columns=str.title,inplace=True)\ndata",
      "metadata": {
        "trusted": true
      },
      "execution_count": null,
      "outputs": []
    },
    {
      "cell_type": "code",
      "source": "ages = [20, 22, 25, 27, 21, 23, 37, 31, 61, 45, 41, 32]",
      "metadata": {
        "trusted": true
      },
      "execution_count": null,
      "outputs": []
    },
    {
      "cell_type": "code",
      "source": "#Understand the output - '(' means the value is included in the bin, '[' means the value is excluded\nbins = [18, 25, 35, 60, 100]\ncats = pd.cut(ages, bins)\ncats\n[(18, 25], (18, 25], (18, 25], (25, 35], (18, 25], ..., (25, 35], (60, 100], (35, 60], (35, 60], (25, 35]]\nLength: 12\nCategories (4, object): [(18, 25] < (25, 35] < (35, 60] < (60, 100]]\n\n\n#To include the right bin value, we can do:\npd.cut(ages,bins,right=False)\n[[18, 25), [18, 25), [25, 35), [25, 35), [18, 25), ..., [25, 35), [60, 100), [35, 60), [35, 60), [25, 35)]\nLength: 12\nCategories (4, object): [[18, 25) < [25, 35) < [35, 60) < [60, 100)]\n\n\n#pandas library intrinsically assigns an encoding to categorical variables.\ncats.labels\narray([0, 0, 0, 1, 0, 0, 2, 1, 3, 2, 2, 1], dtype=int8)\n\n\n#Let's check how many observations fall under each bin\npd.value_counts(cats)\n(18, 25]     5\n(35, 60]     3\n(25, 35]     3\n(60, 100]    1\ndtype: int64",
      "metadata": {},
      "execution_count": null,
      "outputs": []
    },
    {
      "cell_type": "code",
      "source": "bin_names = ['Youth', 'YoungAdult', 'MiddleAge', 'Senior']\nnew_cats = pd.cut(ages, bins,labels=bin_names)\n\npd.value_counts(new_cats)",
      "metadata": {
        "trusted": true
      },
      "execution_count": null,
      "outputs": []
    },
    {
      "cell_type": "code",
      "source": "#we can also calculate their cumulative sum\npd.value_counts(new_cats).cumsum()",
      "metadata": {
        "trusted": true
      },
      "execution_count": null,
      "outputs": []
    },
    {
      "cell_type": "code",
      "source": "df = pd.DataFrame({'key1' : ['a', 'a', 'b', 'b', 'a'],\n                   'key2' : ['one', 'two', 'one', 'two', 'one'],\n                   'data1' : np.random.randn(5),\n                   'data2' : np.random.randn(5)})\ndf",
      "metadata": {
        "trusted": true
      },
      "execution_count": null,
      "outputs": []
    },
    {
      "cell_type": "code",
      "source": "#calculate the mean of data1 column by key1\ngrouped = df['data1'].groupby(df['key1'])\ngrouped.mean()\nkey1\na    0.595757\nb    1.019769\nName: data1, dtype: float64",
      "metadata": {
        "trusted": true
      },
      "execution_count": null,
      "outputs": []
    },
    {
      "cell_type": "code",
      "source": "dates = pd.date_range('20130101',periods=6)\ndf = pd.DataFrame(np.random.randn(6,4),index=dates,columns=list('ABCD'))\ndf",
      "metadata": {
        "trusted": true
      },
      "execution_count": null,
      "outputs": []
    },
    {
      "cell_type": "code",
      "source": "#get first n rows from the data frame\ndf[:3]",
      "metadata": {
        "trusted": true
      },
      "execution_count": null,
      "outputs": []
    },
    {
      "cell_type": "code",
      "source": "#slice based on date range\ndf['20130101':'20130104']",
      "metadata": {
        "trusted": true
      },
      "execution_count": null,
      "outputs": []
    },
    {
      "cell_type": "code",
      "source": "#slicing based on column names\ndf.loc[:,['A','B']]",
      "metadata": {
        "trusted": true
      },
      "execution_count": null,
      "outputs": []
    },
    {
      "cell_type": "code",
      "source": "#slicing based on both row index labels and column names\ndf.loc['20130102':'20130103',['A','B']]",
      "metadata": {
        "trusted": true
      },
      "execution_count": null,
      "outputs": []
    },
    {
      "cell_type": "code",
      "source": "#slicing based on index of columns\ndf.iloc[3] #returns 4th row (index is 3rd)\nA    0.918203\nB   -0.158800\nC   -0.964063\nD   -1.990779\nName: 2013-01-04 00:00:00, dtype: float64\n\n#returns a specific range of rows\ndf.iloc[2:4, 0:2]",
      "metadata": {
        "trusted": true
      },
      "execution_count": null,
      "outputs": []
    },
    {
      "cell_type": "code",
      "source": "#returns specific rows and columns using lists containing columns or row indexes\ndf.iloc[[1,5],[0,2]] ",
      "metadata": {
        "trusted": true
      },
      "execution_count": null,
      "outputs": []
    },
    {
      "cell_type": "code",
      "source": "df[df.A > 1]",
      "metadata": {
        "trusted": true
      },
      "execution_count": null,
      "outputs": []
    },
    {
      "cell_type": "code",
      "source": "#we can copy the data set\ndf2 = df.copy()\ndf2['E']=['one', 'one','two','three','four','three']\ndf2",
      "metadata": {
        "trusted": true
      },
      "execution_count": null,
      "outputs": []
    },
    {
      "cell_type": "code",
      "source": "#select rows based on column values\ndf2[df2['E'].isin(['two','four'])]",
      "metadata": {
        "trusted": true
      },
      "execution_count": null,
      "outputs": []
    },
    {
      "cell_type": "code",
      "source": "#select all rows except those with two and four\ndf2[~df2['E'].isin(['two','four'])]",
      "metadata": {
        "trusted": true
      },
      "execution_count": null,
      "outputs": []
    },
    {
      "cell_type": "code",
      "source": "#list all columns where A is greater than C\ndf.query('A > C')",
      "metadata": {
        "trusted": true
      },
      "execution_count": null,
      "outputs": []
    },
    {
      "cell_type": "code",
      "source": "#using OR condition\ndf.query('A < B | C > A')",
      "metadata": {
        "trusted": true
      },
      "execution_count": null,
      "outputs": []
    },
    {
      "cell_type": "code",
      "source": "#create a data frame\ndata = pd.DataFrame({'group': ['a', 'a', 'a', 'b','b', 'b', 'c', 'c','c'],\n                 'ounces': [4, 3, 12, 6, 7.5, 8, 3, 5, 6]})\ndata\n",
      "metadata": {
        "trusted": true
      },
      "execution_count": null,
      "outputs": []
    },
    {
      "cell_type": "code",
      "source": "#calculate means of each group\ndata.pivot_table(values='ounces',index='group',aggfunc=np.mean)\ngroup\na    6.333333\nb    7.166667\nc    4.666667\nName: ounces, dtype: float64\n\n\n#calculate count by each group\ndata.pivot_table(values='ounces',index='group',aggfunc='count')\ngroup\na    3\nb    3\nc    3\nName: ounces, dtype: int64",
      "metadata": {},
      "execution_count": null,
      "outputs": []
    }
  ]
}