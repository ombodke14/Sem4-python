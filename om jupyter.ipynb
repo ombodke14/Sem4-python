{
  "metadata": {
    "language_info": {
      "name": ""
    },
    "kernelspec": {
      "name": "python",
      "display_name": "Python (Pyodide)",
      "language": "python"
    }
  },
  "nbformat_minor": 4,
  "nbformat": 4,
  "cells": [
    {
      "cell_type": "code",
      "source": "#author:om\n# This script helps to count number of words, number of lines and number of characters from a file\n\ndef countWords(fileName):\n    numwords = 0\n    numchars = 0\n    numlines = 0\n\n    with open(fileName, 'r') as file:\n        for line in file:\n            wordlist = line.split()\n            numlines += 1\n            numwords += len(wordlist)\n            numchars += len(line)\n\n    print (\"Words: \", numwords)\n    print (\"Lines: \", numlines)\n    print (\"Characters: \", numchars)\n\nif __name__ == '__main__':\n    countWords('P07_ScriptToSendMail.py')\n\n    # OUTPUT:\n    # Words:  55\n    # Lines:  14\n    # Characters:  554",
      "metadata": {},
      "execution_count": null,
      "outputs": []
    }
  ]
}